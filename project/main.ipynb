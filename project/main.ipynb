{
 "cells": [
  {
   "cell_type": "code",
   "execution_count": 1,
   "id": "initial_id",
   "metadata": {
    "ExecuteTime": {
     "end_time": "2025-01-06T02:06:49.744473Z",
     "start_time": "2025-01-06T02:06:49.421272Z"
    },
    "collapsed": true
   },
   "outputs": [],
   "source": [
    "from time import time\n",
    "from src.data_structures import *\n",
    "from src.trapezoidal_map import *\n",
    "from src.utils import *\n",
    "from src.visualizer import *\n",
    "import matplotlib.pyplot"
   ]
  },
  {
   "cell_type": "code",
   "execution_count": null,
   "id": "cb723ed681db9026",
   "metadata": {
    "ExecuteTime": {
     "end_time": "2025-01-06T01:51:28.662046Z",
     "start_time": "2025-01-06T01:51:28.638392Z"
    },
    "collapsed": false
   },
   "outputs": [],
   "source": [
    "import matplotlib.pyplot as plt\n",
    "%matplotlib inline\n",
    "mouse_points = []\n",
    "\n",
    "def add_sections(event):\n",
    "    x, y = event.xdata, event.ydata\n",
    "\n",
    "    if x is not None and y is not None:\n",
    "        if event.button == 1:\n",
    "            mouse_points.append((x, y))\n",
    "            plt.plot(x, y, \"go\")\n",
    "            if len(mouse_points) % 2 == 0 and len(mouse_points) > 0:\n",
    "                plt.plot([mouse_points[-2][0], mouse_points[-1][0]], [mouse_points[-2][1], mouse_points[-1][1]], 'b-')\n",
    "\n",
    "            plt.draw()\n",
    "        elif event.button == 3:\n",
    "            plt.close()\n",
    "\n",
    "\n",
    "fig, ax = plt.subplots()\n",
    "ax.set_title(\"Left click to add points, right click to close the plot\")\n",
    "\n",
    "ax.set_xlim(0, 100)\n",
    "ax.set_ylim(0, 100)\n",
    "\n",
    "fig.canvas.mpl_connect('button_press_event', add_sections)\n",
    "\n",
    "plt.show()"
   ]
  },
  {
   "cell_type": "code",
   "execution_count": 3,
   "id": "e58d950bbf698a76",
   "metadata": {
    "ExecuteTime": {
     "end_time": "2025-01-06T01:52:19.965571Z",
     "start_time": "2025-01-06T01:52:19.931008Z"
    },
    "collapsed": false
   },
   "outputs": [
    {
     "name": "stdout",
     "output_type": "stream",
     "text": [
      "[((14.919354838709676, 82.03463203463205), (67.94354838709677, 82.03463203463205)), ((9.274193548387096, 57.413419913419915), (62.70161290322581, 50.64935064935065)), ((15.927419354838708, 18.45238095238096), (81.04838709677419, 22.781385281385287)), ((21.774193548387093, 33.87445887445888), (80.84677419354838, 40.36796536796538)), ((35.483870967741936, 72.29437229437231), (91.53225806451613, 72.29437229437231)), ((6.653225806451612, 3.571428571428573), (90.52419354838709, 10.335497835497836))]\n"
     ]
    }
   ],
   "source": [
    "lines = []\n",
    "for i in range(0, len(mouse_points) - 1, 2):\n",
    "    x1, x2 = mouse_points[i][0], mouse_points[i + 1][0]\n",
    "    if x1 < x2:\n",
    "        lines.append((mouse_points[i], mouse_points[i + 1]))\n",
    "    else:\n",
    "        lines.append((mouse_points[i + 1], mouse_points[i]))\n",
    "\n",
    "vis = Visualizer()\n",
    "vis.add_line_segment(lines)\n",
    "for line in lines:\n",
    "    vis.add_point(line[0], color=\"blue\")\n",
    "    vis.add_point(line[1], color=\"blue\")\n",
    "\n",
    "vis.show()\n",
    "print(lines)"
   ]
  },
  {
   "cell_type": "code",
   "execution_count": 6,
   "id": "2b2fcbd2c29b509",
   "metadata": {
    "ExecuteTime": {
     "end_time": "2025-01-06T01:52:27.259576Z",
     "start_time": "2025-01-06T01:52:25.580418Z"
    },
    "collapsed": false
   },
   "outputs": [],
   "source": [
    "tm = TrapezoidalMap(lines)\n",
    "tm.update_visualizer = True\n",
    "tm.build_trapezoidal_map()\n",
    "vis = tm.vis\n",
    "vis.save_gif()\n",
    "vis.show()"
   ]
  },
  {
   "cell_type": "code",
   "execution_count": null,
   "id": "b130827e812ef843",
   "metadata": {
    "ExecuteTime": {
     "end_time": "2025-01-06T02:08:38.654776Z",
     "start_time": "2025-01-06T02:08:36.736369Z"
    },
    "collapsed": false
   },
   "outputs": [],
   "source": [
    "sizes = [100000]\n",
    "import sys\n",
    "sys.setrecursionlimit(1000000)\n",
    "for size in sizes:\n",
    "    generated_segments = generateParallelSegments(10000, 10000, size-2)\n",
    "    vis = Visualizer()\n",
    "    vis.add_line_segment(generated_segments)\n",
    "    vis.show()\n",
    "    t1 = time()\n",
    "    T = TrapezoidalMap(generated_segments)\n",
    "    T.update_visualizer = False\n",
    "    T.build_trapezoidal_map()\n",
    "    t2 = time()\n",
    "    print(\"Czas budowania mapy trapezowej dla\", size, \"odcinków: {ex_time:.4f} s\".format(ex_time = t2 - t1))"
   ]
  },
  {
   "cell_type": "code",
   "execution_count": null,
   "id": "5e85a9b0eb3fc402",
   "metadata": {
    "ExecuteTime": {
     "end_time": "2025-01-06T01:18:52.774201Z",
     "start_time": "2025-01-06T01:18:52.770751Z"
    },
    "collapsed": false
   },
   "outputs": [],
   "source": []
  },
  {
   "cell_type": "code",
   "execution_count": null,
   "id": "8703869e7de3dc96",
   "metadata": {
    "collapsed": false
   },
   "outputs": [],
   "source": []
  }
 ],
 "metadata": {
  "kernelspec": {
   "display_name": "Python 3",
   "language": "python",
   "name": "python3"
  },
  "language_info": {
   "codemirror_mode": {
    "name": "ipython",
    "version": 3
   },
   "file_extension": ".py",
   "mimetype": "text/x-python",
   "name": "python",
   "nbconvert_exporter": "python",
   "pygments_lexer": "ipython3",
   "version": "3.12.0"
  }
 },
 "nbformat": 4,
 "nbformat_minor": 5
}
