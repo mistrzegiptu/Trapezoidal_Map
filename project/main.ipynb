{
 "cells": [
  {
   "cell_type": "code",
   "execution_count": 1,
   "id": "initial_id",
   "metadata": {
    "collapsed": true,
    "ExecuteTime": {
     "end_time": "2025-01-06T02:06:49.744473Z",
     "start_time": "2025-01-06T02:06:49.421272Z"
    }
   },
   "outputs": [],
   "source": [
    "from time import time\n",
    "from src.data_structures import *\n",
    "from src.trapezoidal_map import *\n",
    "from src.utils import *\n",
    "from src.visualizer import *\n",
    "import matplotlib.pyplot"
   ]
  },
  {
   "cell_type": "code",
   "outputs": [],
   "source": [
    "import matplotlib.pyplot as plt\n",
    "%matplotlib tk\n",
    "mouse_points = []\n",
    "\n",
    "def add_sections(event):\n",
    "    x, y = event.xdata, event.ydata\n",
    "\n",
    "    if x is not None and y is not None:\n",
    "        if event.button == 1:\n",
    "            mouse_points.append((x, y))\n",
    "            plt.plot(x, y, \"go\")\n",
    "            if len(mouse_points) % 2 == 0 and len(mouse_points) > 0:\n",
    "                plt.plot([mouse_points[-2][0], mouse_points[-1][0]], [mouse_points[-2][1], mouse_points[-1][1]], 'b-')\n",
    "\n",
    "            plt.draw()\n",
    "        elif event.button == 3:\n",
    "            plt.close()\n",
    "\n",
    "\n",
    "fig, ax = plt.subplots()\n",
    "ax.set_title(\"Left click to add points, right click to close the plot\")\n",
    "\n",
    "ax.set_xlim(0, 100)\n",
    "ax.set_ylim(0, 100)\n",
    "\n",
    "fig.canvas.mpl_connect('button_press_event', add_sections)\n",
    "\n",
    "plt.show()"
   ],
   "metadata": {
    "collapsed": false,
    "ExecuteTime": {
     "end_time": "2025-01-06T01:51:28.662046Z",
     "start_time": "2025-01-06T01:51:28.638392Z"
    }
   },
   "id": "cb723ed681db9026",
   "execution_count": 14
  },
  {
   "cell_type": "code",
   "outputs": [
    {
     "name": "stdout",
     "output_type": "stream",
     "text": [
      "[((np.float64(11.088709677419352), np.float64(7.088744588744589)), (np.float64(47.37903225806451), np.float64(23.051948051948056))), ((np.float64(36.69354838709677), np.float64(28.733766233766243)), (np.float64(72.1774193548387), np.float64(31.168831168831172))), ((np.float64(56.25), np.float64(12.500000000000004)), (np.float64(87.90322580645162), np.float64(26.839826839826845))), ((np.float64(62.903225806451616), np.float64(40.097402597402606)), (np.float64(92.33870967741935), np.float64(68.77705627705629))), ((np.float64(68.34677419354838), np.float64(69.5887445887446)), (np.float64(95.76612903225806), np.float64(93.12770562770564))), ((np.float64(56.04838709677419), np.float64(42.532467532467535)), (np.float64(78.62903225806451), np.float64(69.31818181818183))), ((np.float64(18.951612903225804), np.float64(30.357142857142865)), (np.float64(51.61290322580645), np.float64(58.22510822510823))), ((np.float64(2.620967741935484), np.float64(59.57792207792208)), (np.float64(28.830645161290317), np.float64(65.25974025974027))), ((np.float64(13.911290322580644), np.float64(81.22294372294374)), (np.float64(47.58064516129032), np.float64(83.65800865800867))), ((np.float64(43.14516129032258), np.float64(91.23376623376625)), (np.float64(88.91129032258064), np.float64(95.02164502164504))), ((np.float64(15.524193548387096), np.float64(41.17965367965368)), (np.float64(31.451612903225804), np.float64(53.084415584415595))), ((np.float64(43.95161290322581), np.float64(67.6948051948052)), (np.float64(62.29838709677419), np.float64(75.27056277056278)))]\n"
     ]
    }
   ],
   "source": [
    "lines = []\n",
    "for i in range(0, len(mouse_points) - 1, 2):\n",
    "    x1, x2 = mouse_points[i][0], mouse_points[i + 1][0]\n",
    "    if x1 < x2:\n",
    "        lines.append((mouse_points[i], mouse_points[i + 1]))\n",
    "    else:\n",
    "        lines.append((mouse_points[i + 1], mouse_points[i]))\n",
    "\n",
    "vis = Visualizer()\n",
    "vis.add_line_segment(lines)\n",
    "for line in lines:\n",
    "    vis.add_point(line[0], color=\"blue\")\n",
    "    vis.add_point(line[1], color=\"blue\")\n",
    "\n",
    "vis.show()\n",
    "print(lines)"
   ],
   "metadata": {
    "collapsed": false,
    "ExecuteTime": {
     "end_time": "2025-01-06T01:52:19.965571Z",
     "start_time": "2025-01-06T01:52:19.931008Z"
    }
   },
   "id": "e58d950bbf698a76",
   "execution_count": 15
  },
  {
   "cell_type": "code",
   "outputs": [],
   "source": [
    "tm = TrapezoidalMap(lines)\n",
    "tm.build_trapezoidal_map()\n",
    "vis = tm.vis\n",
    "vis.save_gif()"
   ],
   "metadata": {
    "collapsed": false,
    "ExecuteTime": {
     "end_time": "2025-01-06T01:52:27.259576Z",
     "start_time": "2025-01-06T01:52:25.580418Z"
    }
   },
   "id": "2b2fcbd2c29b509",
   "execution_count": 16
  },
  {
   "cell_type": "code",
   "outputs": [
    {
     "name": "stdout",
     "output_type": "stream",
     "text": [
      "Czas budowania mapy trapezowej dla 10000 odcinków: 1.8201 s\n"
     ]
    },
    {
     "data": {
      "text/plain": "<Figure size 640x480 with 1 Axes>",
      "image/png": "[encoded data removed]"
     },
     "metadata": {},
     "output_type": "display_data"
    }
   ],
   "source": [
    "sizes = [10000]\n",
    "import sys\n",
    "sys.setrecursionlimit(1000000)\n",
    "for size in sizes:\n",
    "    generated_segments = generateParallelSegments(10000, 10000, size-2)\n",
    "    vis = Visualizer()\n",
    "    vis.add_line_segment(generated_segments)\n",
    "    vis.show()\n",
    "    t1 = time()\n",
    "    T = TrapezoidalMap(generated_segments)\n",
    "    T.build_trapezoidal_map()\n",
    "    t2 = time()\n",
    "    print(\"Czas budowania mapy trapezowej dla\", size, \"odcinków: {ex_time:.4f} s\".format(ex_time = t2 - t1))"
   ],
   "metadata": {
    "collapsed": false,
    "ExecuteTime": {
     "end_time": "2025-01-06T02:08:38.654776Z",
     "start_time": "2025-01-06T02:08:36.736369Z"
    }
   },
   "id": "b130827e812ef843",
   "execution_count": 11
  },
  {
   "cell_type": "code",
   "outputs": [],
   "source": [],
   "metadata": {
    "collapsed": false,
    "ExecuteTime": {
     "end_time": "2025-01-06T01:18:52.774201Z",
     "start_time": "2025-01-06T01:18:52.770751Z"
    }
   },
   "id": "5e85a9b0eb3fc402",
   "execution_count": 21
  },
  {
   "cell_type": "code",
   "outputs": [],
   "source": [],
   "metadata": {
    "collapsed": false
   },
   "id": "8703869e7de3dc96"
  }
 ],
 "metadata": {
  "kernelspec": {
   "display_name": "Python 3",
   "language": "python",
   "name": "python3"
  },
  "language_info": {
   "codemirror_mode": {
    "name": "ipython",
    "version": 2
   },
   "file_extension": ".py",
   "mimetype": "text/x-python",
   "name": "python",
   "nbconvert_exporter": "python",
   "pygments_lexer": "ipython2",
   "version": "2.7.6"
  }
 },
 "nbformat": 4,
 "nbformat_minor": 5
}
