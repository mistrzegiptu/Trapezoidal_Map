{
 "cells": [
  {
   "cell_type": "code",
   "execution_count": 1,
   "id": "initial_id",
   "metadata": {
    "collapsed": true,
    "ExecuteTime": {
     "end_time": "2025-01-06T01:21:59.206165Z",
     "start_time": "2025-01-06T01:21:58.264758Z"
    }
   },
   "outputs": [],
   "source": [
    "from time import time\n",
    "from src.data_structures import *\n",
    "from src.trapezoidal_map import *\n",
    "from src.utils import *\n",
    "from visualizer import *\n",
    "import matplotlib.pyplot"
   ]
  },
  {
   "cell_type": "code",
   "outputs": [],
   "source": [
    "import matplotlib.pyplot as plt\n",
    "%matplotlib tk\n",
    "mouse_points = []\n",
    "\n",
    "def add_sections(event):\n",
    "    x, y = event.xdata, event.ydata\n",
    "\n",
    "    if x is not None and y is not None:\n",
    "        if event.button == 1:\n",
    "            mouse_points.append((x, y))\n",
    "            plt.plot(x, y, \"go\")\n",
    "            if len(mouse_points) % 2 == 0 and len(mouse_points) > 0:\n",
    "                plt.plot([mouse_points[-2][0], mouse_points[-1][0]], [mouse_points[-2][1], mouse_points[-1][1]], 'b-')\n",
    "\n",
    "            plt.draw()\n",
    "        elif event.button == 3:\n",
    "            plt.close()\n",
    "\n",
    "\n",
    "fig, ax = plt.subplots()\n",
    "ax.set_title(\"Left click to add points, right click to close the plot\")\n",
    "\n",
    "ax.set_xlim(0, 100)\n",
    "ax.set_ylim(0, 100)\n",
    "\n",
    "fig.canvas.mpl_connect('button_press_event', add_sections)\n",
    "\n",
    "plt.show()"
   ],
   "metadata": {
    "collapsed": false,
    "ExecuteTime": {
     "end_time": "2025-01-06T01:22:02.143610Z",
     "start_time": "2025-01-06T01:22:01.880281Z"
    }
   },
   "id": "cb723ed681db9026",
   "execution_count": 2
  },
  {
   "cell_type": "code",
   "outputs": [
    {
     "name": "stdout",
     "output_type": "stream",
     "text": [
      "[((16.612903225806452, 69.6969696969697), (71.7741935483871, 70.7792207792208)), ((21.290322580645164, 39.61038961038961), (62.741935483870975, 17.748917748917748)), ((33.064516129032256, 53.030303030303024), (67.74193548387098, 42.857142857142854)), ((29.838709677419356, 16.66666666666667), (40.483870967741936, 13.419913419913422))]\n"
     ]
    }
   ],
   "source": [
    "lines = []\n",
    "for i in range(0, len(mouse_points) - 1, 2):\n",
    "    x1, x2 = mouse_points[i][0], mouse_points[i + 1][0]\n",
    "    if x1 < x2:\n",
    "        lines.append((mouse_points[i], mouse_points[i + 1]))\n",
    "    else:\n",
    "        lines.append((mouse_points[i + 1], mouse_points[i]))\n",
    "\n",
    "vis = Visualizer()\n",
    "vis.add_line_segment(lines)\n",
    "for line in lines:\n",
    "    vis.add_point(line[0], color=\"blue\")\n",
    "    vis.add_point(line[1], color=\"blue\")\n",
    "\n",
    "vis.show()\n",
    "print(lines)"
   ],
   "metadata": {
    "collapsed": false,
    "ExecuteTime": {
     "end_time": "2025-01-06T01:22:08.484961Z",
     "start_time": "2025-01-06T01:22:08.261533Z"
    }
   },
   "id": "e58d950bbf698a76",
   "execution_count": 3
  },
  {
   "cell_type": "code",
   "outputs": [
    {
     "data": {
      "text/plain": "<src.data_structures.DTree at 0x1783389dee0>"
     },
     "execution_count": 5,
     "metadata": {},
     "output_type": "execute_result"
    }
   ],
   "source": [
    "tm = TrapezoidalMap(lines)\n",
    "tm.build_trapezoidal_map()\n",
    "#vis = tm.vis\n",
    "#vis.show_gif()"
   ],
   "metadata": {
    "collapsed": false,
    "ExecuteTime": {
     "end_time": "2025-01-06T01:22:20.925135Z",
     "start_time": "2025-01-06T01:22:20.917442Z"
    }
   },
   "id": "2b2fcbd2c29b509",
   "execution_count": 5
  },
  {
   "cell_type": "code",
   "outputs": [],
   "source": [
    "sizes = [5000]\n",
    "import sys\n",
    "sys.setrecursionlimit(1000000)\n",
    "for size in sizes:\n",
    "    generated_segments = generateParallelSegments(10000, 10000, size-2)\n",
    "    t1 = time()\n",
    "    T = TrapezoidalMap(generated_segments)\n",
    "    T.build_trapezoidal_map()\n",
    "    t2 = time()\n",
    "    print(\"Czas budowania mapy trapezowej dla\", size, \"odcinków: {ex_time:.4f} s\".format(ex_time = t2 - t1))"
   ],
   "metadata": {
    "collapsed": false,
    "is_executing": true,
    "ExecuteTime": {
     "start_time": "2025-01-06T01:23:47.356356Z"
    }
   },
   "id": "b130827e812ef843",
   "execution_count": null
  },
  {
   "cell_type": "code",
   "outputs": [],
   "source": [],
   "metadata": {
    "collapsed": false,
    "ExecuteTime": {
     "end_time": "2025-01-06T01:18:52.774201Z",
     "start_time": "2025-01-06T01:18:52.770751Z"
    }
   },
   "id": "5e85a9b0eb3fc402",
   "execution_count": 21
  },
  {
   "cell_type": "code",
   "outputs": [],
   "source": [],
   "metadata": {
    "collapsed": false
   },
   "id": "8703869e7de3dc96"
  }
 ],
 "metadata": {
  "kernelspec": {
   "display_name": "Python 3",
   "language": "python",
   "name": "python3"
  },
  "language_info": {
   "codemirror_mode": {
    "name": "ipython",
    "version": 2
   },
   "file_extension": ".py",
   "mimetype": "text/x-python",
   "name": "python",
   "nbconvert_exporter": "python",
   "pygments_lexer": "ipython2",
   "version": "2.7.6"
  }
 },
 "nbformat": 4,
 "nbformat_minor": 5
}
