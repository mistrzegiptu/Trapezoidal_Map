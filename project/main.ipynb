{
 "cells": [
  {
   "cell_type": "code",
   "execution_count": 5,
   "id": "initial_id",
   "metadata": {
    "ExecuteTime": {
     "end_time": "2025-01-06T02:06:49.744473Z",
     "start_time": "2025-01-06T02:06:49.421272Z"
    },
    "collapsed": true
   },
   "outputs": [],
   "source": [
    "from time import time\n",
    "from src.data_structures import *\n",
    "from src.trapezoidal_map import *\n",
    "from src.utils import *\n",
    "from src.visualizer import *\n",
    "import matplotlib.pyplot"
   ]
  },
  {
   "cell_type": "code",
   "execution_count": 12,
   "id": "cb723ed681db9026",
   "metadata": {
    "ExecuteTime": {
     "end_time": "2025-01-06T01:51:28.662046Z",
     "start_time": "2025-01-06T01:51:28.638392Z"
    },
    "collapsed": false
   },
   "outputs": [],
   "source": [
    "import matplotlib.pyplot as plt\n",
    "%matplotlib tk\n",
    "mouse_points = []\n",
    "\n",
    "def add_sections(event):\n",
    "    x, y = event.xdata, event.ydata\n",
    "\n",
    "    if x is not None and y is not None:\n",
    "        if event.button == 1:\n",
    "            mouse_points.append((x, y))\n",
    "            plt.plot(x, y, \"go\")\n",
    "            if len(mouse_points) % 2 == 0 and len(mouse_points) > 0:\n",
    "                plt.plot([mouse_points[-2][0], mouse_points[-1][0]], [mouse_points[-2][1], mouse_points[-1][1]], 'b-')\n",
    "\n",
    "            plt.draw()\n",
    "        elif event.button == 3:\n",
    "            plt.close()\n",
    "\n",
    "\n",
    "fig, ax = plt.subplots()\n",
    "ax.set_title(\"Left click to add points, right click to close the plot\")\n",
    "\n",
    "ax.set_xlim(0, 100)\n",
    "ax.set_ylim(0, 100)\n",
    "\n",
    "fig.canvas.mpl_connect('button_press_event', add_sections)\n",
    "\n",
    "plt.show()"
   ]
  },
  {
   "cell_type": "code",
   "execution_count": 13,
   "id": "e58d950bbf698a76",
   "metadata": {
    "ExecuteTime": {
     "end_time": "2025-01-06T01:52:19.965571Z",
     "start_time": "2025-01-06T01:52:19.931008Z"
    },
    "collapsed": false
   },
   "outputs": [
    {
     "name": "stdout",
     "output_type": "stream",
     "text": [
      "[((18.54838709677419, 70.94155844155846), (70.36290322580645, 74.72943722943724)), ((24.193548387096772, 43.07359307359309), (64.91935483870968, 38.47402597402598)), ((26.209677419354836, 56.33116883116884), (51.41129032258064, 55.24891774891776)), ((20.96774193548387, 23.5930735930736), (54.83870967741936, 10.335497835497836)), ((31.249999999999996, 35.227272727272734), (61.69354838709677, 24.945887445887454))]\n"
     ]
    }
   ],
   "source": [
    "lines = []\n",
    "for i in range(0, len(mouse_points) - 1, 2):\n",
    "    x1, x2 = mouse_points[i][0], mouse_points[i + 1][0]\n",
    "    if x1 < x2:\n",
    "        lines.append((mouse_points[i], mouse_points[i + 1]))\n",
    "    else:\n",
    "        lines.append((mouse_points[i + 1], mouse_points[i]))\n",
    "\n",
    "vis = Visualizer()\n",
    "vis.add_line_segment(lines)\n",
    "for line in lines:\n",
    "    vis.add_point(line[0], color=\"blue\")\n",
    "    vis.add_point(line[1], color=\"blue\")\n",
    "\n",
    "vis.show()\n",
    "print(lines)"
   ]
  },
  {
   "cell_type": "code",
   "execution_count": 14,
   "id": "2b2fcbd2c29b509",
   "metadata": {
    "ExecuteTime": {
     "end_time": "2025-01-06T01:52:27.259576Z",
     "start_time": "2025-01-06T01:52:25.580418Z"
    },
    "collapsed": false
   },
   "outputs": [],
   "source": [
    "tm = TrapezoidalMap(lines)\n",
    "tm.build_trapezoidal_map()\n",
    "vis = tm.vis\n",
    "vis.save_gif()"
   ]
  },
  {
   "cell_type": "code",
   "execution_count": null,
   "id": "b130827e812ef843",
   "metadata": {
    "ExecuteTime": {
     "end_time": "2025-01-06T02:08:38.654776Z",
     "start_time": "2025-01-06T02:08:36.736369Z"
    },
    "collapsed": false
   },
   "outputs": [
    {
     "name": "stderr",
     "output_type": "stream",
     "text": [
      "c:\\Users\\mistr\\Desktop\\studyja\\Trapezoidal_Map\\project\\src\\visualizer\\plot\\plot.py:10: RuntimeWarning: More than 20 figures have been opened. Figures created through the pyplot interface (`matplotlib.pyplot.figure`) are retained until explicitly closed and may consume too much memory. (To control this warning, see the rcParam `figure.max_open_warning`). Consider using `matplotlib.pyplot.close()`.\n",
      "  fig, ax = plt.subplots()\n"
     ]
    },
    {
     "ename": "",
     "evalue": "",
     "output_type": "error",
     "traceback": [
      "\u001b[1;31mThe Kernel crashed while executing code in the current cell or a previous cell. \n",
      "\u001b[1;31mPlease review the code in the cell(s) to identify a possible cause of the failure. \n",
      "\u001b[1;31mClick <a href='https://aka.ms/vscodeJupyterKernelCrash'>here</a> for more info. \n",
      "\u001b[1;31mView Jupyter <a href='command:jupyter.viewOutput'>log</a> for further details."
     ]
    }
   ],
   "source": [
    "sizes = [10000]\n",
    "import sys\n",
    "sys.setrecursionlimit(1000000)\n",
    "for size in sizes:\n",
    "    generated_segments = generateParallelSegments(10000, 10000, size-2)\n",
    "    vis = Visualizer()\n",
    "    vis.add_line_segment(generated_segments)\n",
    "    vis.show()\n",
    "    t1 = time()\n",
    "    T = TrapezoidalMap(generated_segments)\n",
    "    T.update_visualizer = False\n",
    "    T.build_trapezoidal_map()\n",
    "    t2 = time()\n",
    "    print(\"Czas budowania mapy trapezowej dla\", size, \"odcinków: {ex_time:.4f} s\".format(ex_time = t2 - t1))"
   ]
  },
  {
   "cell_type": "code",
   "execution_count": null,
   "id": "5e85a9b0eb3fc402",
   "metadata": {
    "ExecuteTime": {
     "end_time": "2025-01-06T01:18:52.774201Z",
     "start_time": "2025-01-06T01:18:52.770751Z"
    },
    "collapsed": false
   },
   "outputs": [],
   "source": []
  },
  {
   "cell_type": "code",
   "execution_count": null,
   "id": "8703869e7de3dc96",
   "metadata": {
    "collapsed": false
   },
   "outputs": [],
   "source": []
  }
 ],
 "metadata": {
  "kernelspec": {
   "display_name": "Python 3",
   "language": "python",
   "name": "python3"
  },
  "language_info": {
   "codemirror_mode": {
    "name": "ipython",
    "version": 3
   },
   "file_extension": ".py",
   "mimetype": "text/x-python",
   "name": "python",
   "nbconvert_exporter": "python",
   "pygments_lexer": "ipython3",
   "version": "3.12.0"
  }
 },
 "nbformat": 4,
 "nbformat_minor": 5
}
